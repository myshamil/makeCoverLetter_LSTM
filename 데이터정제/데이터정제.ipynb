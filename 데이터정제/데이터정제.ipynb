{
 "metadata": {
  "language_info": {
   "codemirror_mode": {
    "name": "ipython",
    "version": 3
   },
   "file_extension": ".py",
   "mimetype": "text/x-python",
   "name": "python",
   "nbconvert_exporter": "python",
   "pygments_lexer": "ipython3",
   "version": 3
  },
  "orig_nbformat": 2,
  "kernelspec": {
   "name": "python_defaultSpec_1596676113736",
   "display_name": "Python 3.7.7 64-bit"
  }
 },
 "nbformat": 4,
 "nbformat_minor": 2,
 "cells": [
  {
   "cell_type": "code",
   "execution_count": 72,
   "metadata": {},
   "outputs": [],
   "source": [
    "import pandas as pd\n",
    "# pd.set_option('display.max_row', 500)\n",
    "# pd.set_option('display.max_columns', 100)\n",
    "import numpy as np\n",
    "# np.set_printoptions(threshold=sys.maxsize)\n",
    "import sys\n",
    "import gensim\n",
    "from gensim.models import Word2Vec\n",
    "from konlpy.tag import Okt # 옛날 Twitter 클래스\n",
    "okt = Okt()\n",
    "import pickle\n",
    "import re"
   ]
  },
  {
   "cell_type": "code",
   "execution_count": 73,
   "metadata": {},
   "outputs": [],
   "source": [
    "data = pd.read_csv('CVdata_raw.csv')"
   ]
  },
  {
   "cell_type": "code",
   "execution_count": 74,
   "metadata": {},
   "outputs": [
    {
     "output_type": "execute_result",
     "data": {
      "text/plain": "0       [\"1. 대웅제약에 지원한 동기와, 귀하께서 대웅제약에 적합하다고 생각하는 이유를 ...\n1       [\"1. 지원동기[노력파, 현재진행형 인재]저는 컴퓨터 전기전자과를 전공하여 전기,...\n2       ['2. 지원하신 직무에 대한 지원동기와 그 이유에 대해서 기술해 주십시오.(설계의...\n3       ['5. 귀하가 주식회사 센트랄에 지원하게 된 동기는 무엇이며, 입사 후 10년 동...\n4       ['5. 지원동기 및 포부기업 솔루션 종결자, 후지제록스에서 꿈을 펼치다!후지제록스...\n                              ...                        \n1265    ['3. 지원동기 및 포부수동적이고 기계적인 태도로 주어진 기본 업무만 처리하는 사...\n1266    ['2. 녹십자 입사지원동기에 대해 말씀해 주세요.우리 사회가 고령화 사회로 진입하...\n1267    ['1. 지원동기귀사의 사회공헌활동에는 역동성이 있습니다. 단순한 기업의 책무로서 ...\n1268    ['2. 지원동기[현대의 중심에서 꿈을 품다]매출 대비 영업이익률이 OO %이상인 ...\n1269    ['1. 남양유업에 지원한 동기와 본인의 어떠한 점이 우리회사의 인재상에 적합하다고...\nName: content, Length: 1270, dtype: object"
     },
     "metadata": {},
     "execution_count": 74
    }
   ],
   "source": [
    "sp = data['content']\n",
    "sp"
   ]
  },
  {
   "cell_type": "markdown",
   "metadata": {},
   "source": [
    "없애야하는거...  \n",
    "대괄호  \n",
    "따옴표  \n",
    "시작번호  \n",
    "마지막 글자수와 byte, 접기 표시 "
   ]
  },
  {
   "cell_type": "code",
   "execution_count": 75,
   "metadata": {},
   "outputs": [],
   "source": [
    "data['content'][0] = re.sub('[\\[,\\],\\\",\\|]', '', data['content'][0])"
   ]
  },
  {
   "cell_type": "code",
   "execution_count": 76,
   "metadata": {},
   "outputs": [],
   "source": [
    "for i in range(0, len(data['content'])):\n",
    "    data['content'][i] = re.sub('[\\[,\\],\\\",\\|\\']', '', data['content'][i])\n",
    "\n",
    "#대괄호 따옴표 삭제!"
   ]
  },
  {
   "cell_type": "code",
   "execution_count": 77,
   "metadata": {},
   "outputs": [],
   "source": [
    "for i in range(0, len(data['content'])):\n",
    "    data['content'][i] = re.sub(\"[0-9]\\.\", '',data['content'][i])"
   ]
  },
  {
   "cell_type": "code",
   "execution_count": 78,
   "metadata": {},
   "outputs": [
    {
     "output_type": "execute_result",
     "data": {
      "text/plain": "0        대웅제약에 지원한 동기와 귀하께서 대웅제약에 적합하다고 생각하는 이유를 설명해주십...\n1        지원동기노력파 현재진행형 인재저는 컴퓨터 전기전자과를 전공하여 전기 전자와 관련된...\n2        지원하신 직무에 대한 지원동기와 그 이유에 대해서 기술해 주십시오.(설계의 꿈을 ...\n3        귀하가 주식회사 센트랄에 지원하게 된 동기는 무엇이며 입사 후 10년 동안의 회사...\n4        지원동기 및 포부기업 솔루션 종결자 후지제록스에서 꿈을 펼치다!후지제록스는 많은 ...\n                              ...                        \n1265     지원동기 및 포부수동적이고 기계적인 태도로 주어진 기본 업무만 처리하는 사람은 능...\n1266     녹십자 입사지원동기에 대해 말씀해 주세요.우리 사회가 고령화 사회로 진입하게 되면...\n1267     지원동기귀사의 사회공헌활동에는 역동성이 있습니다. 단순한 기업의 책무로서 사회공헌...\n1268     지원동기현대의 중심에서 꿈을 품다매출 대비 영업이익률이 OO %이상인 기업 글로벌...\n1269     남양유업에 지원한 동기와 본인의 어떠한 점이 우리회사의 인재상에 적합하다고 생각하...\nName: content, Length: 1270, dtype: object"
     },
     "metadata": {},
     "execution_count": 78
    }
   ],
   "source": [
    "sp"
   ]
  },
  {
   "cell_type": "code",
   "execution_count": 80,
   "metadata": {},
   "outputs": [],
   "source": [
    "data.to_csv('CVdata_r2.csv', index= False, encoding=\"UTF-8-sig\")"
   ]
  },
  {
   "cell_type": "code",
   "execution_count": 81,
   "metadata": {},
   "outputs": [],
   "source": [
    "data = pd.read_csv('CVdata_r2.csv')"
   ]
  },
  {
   "cell_type": "code",
   "execution_count": 82,
   "metadata": {},
   "outputs": [
    {
     "output_type": "execute_result",
     "data": {
      "text/plain": "        id                                            content\n0        1   대웅제약에 지원한 동기와 귀하께서 대웅제약에 적합하다고 생각하는 이유를 설명해주십...\n1        2   지원동기노력파 현재진행형 인재저는 컴퓨터 전기전자과를 전공하여 전기 전자와 관련된...\n2        3   지원하신 직무에 대한 지원동기와 그 이유에 대해서 기술해 주십시오.(설계의 꿈을 ...\n3        4   귀하가 주식회사 센트랄에 지원하게 된 동기는 무엇이며 입사 후 10년 동안의 회사...\n4        5   지원동기 및 포부기업 솔루션 종결자 후지제록스에서 꿈을 펼치다!후지제록스는 많은 ...\n...    ...                                                ...\n1265  1266   지원동기 및 포부수동적이고 기계적인 태도로 주어진 기본 업무만 처리하는 사람은 능...\n1266  1267   녹십자 입사지원동기에 대해 말씀해 주세요.우리 사회가 고령화 사회로 진입하게 되면...\n1267  1268   지원동기귀사의 사회공헌활동에는 역동성이 있습니다. 단순한 기업의 책무로서 사회공헌...\n1268  1269   지원동기현대의 중심에서 꿈을 품다매출 대비 영업이익률이 OO %이상인 기업 글로벌...\n1269  1270   남양유업에 지원한 동기와 본인의 어떠한 점이 우리회사의 인재상에 적합하다고 생각하...\n\n[1270 rows x 2 columns]",
      "text/html": "<div>\n<style scoped>\n    .dataframe tbody tr th:only-of-type {\n        vertical-align: middle;\n    }\n\n    .dataframe tbody tr th {\n        vertical-align: top;\n    }\n\n    .dataframe thead th {\n        text-align: right;\n    }\n</style>\n<table border=\"1\" class=\"dataframe\">\n  <thead>\n    <tr style=\"text-align: right;\">\n      <th></th>\n      <th>id</th>\n      <th>content</th>\n    </tr>\n  </thead>\n  <tbody>\n    <tr>\n      <th>0</th>\n      <td>1</td>\n      <td>대웅제약에 지원한 동기와 귀하께서 대웅제약에 적합하다고 생각하는 이유를 설명해주십...</td>\n    </tr>\n    <tr>\n      <th>1</th>\n      <td>2</td>\n      <td>지원동기노력파 현재진행형 인재저는 컴퓨터 전기전자과를 전공하여 전기 전자와 관련된...</td>\n    </tr>\n    <tr>\n      <th>2</th>\n      <td>3</td>\n      <td>지원하신 직무에 대한 지원동기와 그 이유에 대해서 기술해 주십시오.(설계의 꿈을 ...</td>\n    </tr>\n    <tr>\n      <th>3</th>\n      <td>4</td>\n      <td>귀하가 주식회사 센트랄에 지원하게 된 동기는 무엇이며 입사 후 10년 동안의 회사...</td>\n    </tr>\n    <tr>\n      <th>4</th>\n      <td>5</td>\n      <td>지원동기 및 포부기업 솔루션 종결자 후지제록스에서 꿈을 펼치다!후지제록스는 많은 ...</td>\n    </tr>\n    <tr>\n      <th>...</th>\n      <td>...</td>\n      <td>...</td>\n    </tr>\n    <tr>\n      <th>1265</th>\n      <td>1266</td>\n      <td>지원동기 및 포부수동적이고 기계적인 태도로 주어진 기본 업무만 처리하는 사람은 능...</td>\n    </tr>\n    <tr>\n      <th>1266</th>\n      <td>1267</td>\n      <td>녹십자 입사지원동기에 대해 말씀해 주세요.우리 사회가 고령화 사회로 진입하게 되면...</td>\n    </tr>\n    <tr>\n      <th>1267</th>\n      <td>1268</td>\n      <td>지원동기귀사의 사회공헌활동에는 역동성이 있습니다. 단순한 기업의 책무로서 사회공헌...</td>\n    </tr>\n    <tr>\n      <th>1268</th>\n      <td>1269</td>\n      <td>지원동기현대의 중심에서 꿈을 품다매출 대비 영업이익률이 OO %이상인 기업 글로벌...</td>\n    </tr>\n    <tr>\n      <th>1269</th>\n      <td>1270</td>\n      <td>남양유업에 지원한 동기와 본인의 어떠한 점이 우리회사의 인재상에 적합하다고 생각하...</td>\n    </tr>\n  </tbody>\n</table>\n<p>1270 rows × 2 columns</p>\n</div>"
     },
     "metadata": {},
     "execution_count": 82
    }
   ],
   "source": [
    "data"
   ]
  },
  {
   "cell_type": "code",
   "execution_count": 26,
   "metadata": {},
   "outputs": [],
   "source": [
    "# ☆'글자수' 와 '접기' 사이에 있는 모든 것을 삭제☆"
   ]
  },
  {
   "cell_type": "code",
   "execution_count": 121,
   "metadata": {},
   "outputs": [
    {
     "output_type": "execute_result",
     "data": {
      "text/plain": "['글자수 412자      1036Byte작성 포인트위 문항은 지원 회사와 직무에 대한 지원동기와 함께 관심의 시작을 알아보고 이를 위해 어떤 노력을 기울였는지 알아보기 위한 문항입니다.첨삭 결과지원동기에 대해 작성하셨습니다. 높은 성장 가능성이 있는 아이에스동서에 대한 사업 현황에 관한 내용은 좋지만 이와 함께 나 자신에 대한 소개를 꼭 추가하셔야 합니다. 총무 업무를 지원하게 된 계기와 지원자만의 강점을 더욱 부각하시기 바랍니다.접기']"
     },
     "metadata": {},
     "execution_count": 121
    }
   ],
   "source": [
    "re.findall(\"글자수+.+접기$\", data['content'][50])\n",
    "#가-힣ㄱ-ㅎa-zA-Z0-9"
   ]
  },
  {
   "cell_type": "code",
   "execution_count": 122,
   "metadata": {},
   "outputs": [],
   "source": [
    "for i in range(0, len(data['content'])):\n",
    "    data['content'][i] = re.sub(\"글자수+.+접기$\", '',data['content'][i])"
   ]
  },
  {
   "cell_type": "code",
   "execution_count": 128,
   "metadata": {},
   "outputs": [
    {
     "output_type": "execute_result",
     "data": {
      "text/plain": "' 우리 회사와 해당직무에 지원한 동기에 대하여 서술하세요.높은 성장 가능성이 있는 회사에서 역량을 발휘하겠습니다제가 아이에스동서에 지원하는 이유는 건축업계에서 높은 성장 가능성 때문입니다. 소액으로 투자하면서 건축주를 눈여겨보았는데 건축 사업뿐 아니라 건축 기자재 요업산업 등 건축에 필요한 제품들을 수직계열화 시켜 분기마다 매출액과 영업이익률이 상승하는 아이에스동서의 진정한 성장을 알게 되었습니다. 이런 아이에스동서에서 저의 강점인 적극성과 꼼꼼함 그리고 전공과 연관된 경리 경험을 활용해 총무팀의 일원이 되고 싶습니다.특히 수직계열화 사업을 진행하는 기업의 경우 사업부별로 원활한 커뮤니케이션 끝에 공기에 맞출 수 있는 제품이 만들어져야 한다고 생각합니다. 총무팀 일원으로 적극성을 살려 현장 공장과 업무를 서로 협조하며 아이에스동서의 성장에 기여하는 지원자가 되겠습니다.'"
     },
     "metadata": {},
     "execution_count": 128
    }
   ],
   "source": [
    "data['content'][50]"
   ]
  },
  {
   "cell_type": "code",
   "execution_count": 127,
   "metadata": {},
   "outputs": [],
   "source": [
    "data.to_csv('CVdata_r3.csv', index= False, encoding=\"UTF-8-sig\")"
   ]
  }
 ]
}
