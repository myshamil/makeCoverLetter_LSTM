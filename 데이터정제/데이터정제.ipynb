{
 "metadata": {
  "language_info": {
   "codemirror_mode": {
    "name": "ipython",
    "version": 3
   },
   "file_extension": ".py",
   "mimetype": "text/x-python",
   "name": "python",
   "nbconvert_exporter": "python",
   "pygments_lexer": "ipython3",
   "version": 3
  },
  "orig_nbformat": 2,
  "kernelspec": {
   "name": "python_defaultSpec_1596701114125",
   "display_name": "Python 3.7.7 64-bit"
  }
 },
 "nbformat": 4,
 "nbformat_minor": 2,
 "cells": [
  {
   "cell_type": "code",
   "execution_count": 1,
   "metadata": {},
   "outputs": [],
   "source": [
    "import pandas as pd\n",
    "pd.set_option('display.max_row', 500)\n",
    "pd.set_option('display.max_columns', 100)\n",
    "import numpy as np\n",
    "# np.set_printoptions(threshold=sys.maxsize)\n",
    "import sys\n",
    "import gensim\n",
    "from gensim.models import Word2Vec\n",
    "from konlpy.tag import Okt # 옛날 Twitter 클래스\n",
    "okt = Okt()\n",
    "import pickle\n",
    "import re"
   ]
  },
  {
   "cell_type": "code",
   "execution_count": 73,
   "metadata": {},
   "outputs": [],
   "source": [
    "data = pd.read_csv('CVdata_raw.csv')"
   ]
  },
  {
   "cell_type": "code",
   "execution_count": 74,
   "metadata": {},
   "outputs": [
    {
     "output_type": "execute_result",
     "data": {
      "text/plain": "0       [\"1. 대웅제약에 지원한 동기와, 귀하께서 대웅제약에 적합하다고 생각하는 이유를 ...\n1       [\"1. 지원동기[노력파, 현재진행형 인재]저는 컴퓨터 전기전자과를 전공하여 전기,...\n2       ['2. 지원하신 직무에 대한 지원동기와 그 이유에 대해서 기술해 주십시오.(설계의...\n3       ['5. 귀하가 주식회사 센트랄에 지원하게 된 동기는 무엇이며, 입사 후 10년 동...\n4       ['5. 지원동기 및 포부기업 솔루션 종결자, 후지제록스에서 꿈을 펼치다!후지제록스...\n                              ...                        \n1265    ['3. 지원동기 및 포부수동적이고 기계적인 태도로 주어진 기본 업무만 처리하는 사...\n1266    ['2. 녹십자 입사지원동기에 대해 말씀해 주세요.우리 사회가 고령화 사회로 진입하...\n1267    ['1. 지원동기귀사의 사회공헌활동에는 역동성이 있습니다. 단순한 기업의 책무로서 ...\n1268    ['2. 지원동기[현대의 중심에서 꿈을 품다]매출 대비 영업이익률이 OO %이상인 ...\n1269    ['1. 남양유업에 지원한 동기와 본인의 어떠한 점이 우리회사의 인재상에 적합하다고...\nName: content, Length: 1270, dtype: object"
     },
     "metadata": {},
     "execution_count": 74
    }
   ],
   "source": [
    "sp = data['content']\n",
    "sp"
   ]
  },
  {
   "cell_type": "markdown",
   "metadata": {},
   "source": [
    "없애야하는거...  \n",
    "대괄호  \n",
    "따옴표  \n",
    "시작번호  \n",
    "마지막 글자수와 byte, 접기 표시 "
   ]
  },
  {
   "cell_type": "code",
   "execution_count": 75,
   "metadata": {},
   "outputs": [],
   "source": [
    "data['content'][0] = re.sub('[\\[,\\],\\\",\\|]', '', data['content'][0])"
   ]
  },
  {
   "cell_type": "code",
   "execution_count": 76,
   "metadata": {},
   "outputs": [],
   "source": [
    "for i in range(0, len(data['content'])):\n",
    "    data['content'][i] = re.sub('[\\[,\\],\\\",\\|\\']', '', data['content'][i])\n",
    "\n",
    "#대괄호 따옴표 삭제!"
   ]
  },
  {
   "cell_type": "code",
   "execution_count": 77,
   "metadata": {},
   "outputs": [],
   "source": [
    "for i in range(0, len(data['content'])):\n",
    "    data['content'][i] = re.sub(\"[0-9]\\.\", '',data['content'][i])"
   ]
  },
  {
   "cell_type": "code",
   "execution_count": 78,
   "metadata": {},
   "outputs": [
    {
     "output_type": "execute_result",
     "data": {
      "text/plain": "0        대웅제약에 지원한 동기와 귀하께서 대웅제약에 적합하다고 생각하는 이유를 설명해주십...\n1        지원동기노력파 현재진행형 인재저는 컴퓨터 전기전자과를 전공하여 전기 전자와 관련된...\n2        지원하신 직무에 대한 지원동기와 그 이유에 대해서 기술해 주십시오.(설계의 꿈을 ...\n3        귀하가 주식회사 센트랄에 지원하게 된 동기는 무엇이며 입사 후 10년 동안의 회사...\n4        지원동기 및 포부기업 솔루션 종결자 후지제록스에서 꿈을 펼치다!후지제록스는 많은 ...\n                              ...                        \n1265     지원동기 및 포부수동적이고 기계적인 태도로 주어진 기본 업무만 처리하는 사람은 능...\n1266     녹십자 입사지원동기에 대해 말씀해 주세요.우리 사회가 고령화 사회로 진입하게 되면...\n1267     지원동기귀사의 사회공헌활동에는 역동성이 있습니다. 단순한 기업의 책무로서 사회공헌...\n1268     지원동기현대의 중심에서 꿈을 품다매출 대비 영업이익률이 OO %이상인 기업 글로벌...\n1269     남양유업에 지원한 동기와 본인의 어떠한 점이 우리회사의 인재상에 적합하다고 생각하...\nName: content, Length: 1270, dtype: object"
     },
     "metadata": {},
     "execution_count": 78
    }
   ],
   "source": [
    "sp"
   ]
  },
  {
   "cell_type": "code",
   "execution_count": 80,
   "metadata": {},
   "outputs": [],
   "source": [
    "data.to_csv('CVdata_r2.csv', index= False, encoding=\"UTF-8-sig\")"
   ]
  },
  {
   "cell_type": "code",
   "execution_count": 81,
   "metadata": {},
   "outputs": [],
   "source": [
    "data = pd.read_csv('CVdata_r2.csv')"
   ]
  },
  {
   "cell_type": "code",
   "execution_count": 82,
   "metadata": {},
   "outputs": [
    {
     "output_type": "execute_result",
     "data": {
      "text/plain": "        id                                            content\n0        1   대웅제약에 지원한 동기와 귀하께서 대웅제약에 적합하다고 생각하는 이유를 설명해주십...\n1        2   지원동기노력파 현재진행형 인재저는 컴퓨터 전기전자과를 전공하여 전기 전자와 관련된...\n2        3   지원하신 직무에 대한 지원동기와 그 이유에 대해서 기술해 주십시오.(설계의 꿈을 ...\n3        4   귀하가 주식회사 센트랄에 지원하게 된 동기는 무엇이며 입사 후 10년 동안의 회사...\n4        5   지원동기 및 포부기업 솔루션 종결자 후지제록스에서 꿈을 펼치다!후지제록스는 많은 ...\n...    ...                                                ...\n1265  1266   지원동기 및 포부수동적이고 기계적인 태도로 주어진 기본 업무만 처리하는 사람은 능...\n1266  1267   녹십자 입사지원동기에 대해 말씀해 주세요.우리 사회가 고령화 사회로 진입하게 되면...\n1267  1268   지원동기귀사의 사회공헌활동에는 역동성이 있습니다. 단순한 기업의 책무로서 사회공헌...\n1268  1269   지원동기현대의 중심에서 꿈을 품다매출 대비 영업이익률이 OO %이상인 기업 글로벌...\n1269  1270   남양유업에 지원한 동기와 본인의 어떠한 점이 우리회사의 인재상에 적합하다고 생각하...\n\n[1270 rows x 2 columns]",
      "text/html": "<div>\n<style scoped>\n    .dataframe tbody tr th:only-of-type {\n        vertical-align: middle;\n    }\n\n    .dataframe tbody tr th {\n        vertical-align: top;\n    }\n\n    .dataframe thead th {\n        text-align: right;\n    }\n</style>\n<table border=\"1\" class=\"dataframe\">\n  <thead>\n    <tr style=\"text-align: right;\">\n      <th></th>\n      <th>id</th>\n      <th>content</th>\n    </tr>\n  </thead>\n  <tbody>\n    <tr>\n      <th>0</th>\n      <td>1</td>\n      <td>대웅제약에 지원한 동기와 귀하께서 대웅제약에 적합하다고 생각하는 이유를 설명해주십...</td>\n    </tr>\n    <tr>\n      <th>1</th>\n      <td>2</td>\n      <td>지원동기노력파 현재진행형 인재저는 컴퓨터 전기전자과를 전공하여 전기 전자와 관련된...</td>\n    </tr>\n    <tr>\n      <th>2</th>\n      <td>3</td>\n      <td>지원하신 직무에 대한 지원동기와 그 이유에 대해서 기술해 주십시오.(설계의 꿈을 ...</td>\n    </tr>\n    <tr>\n      <th>3</th>\n      <td>4</td>\n      <td>귀하가 주식회사 센트랄에 지원하게 된 동기는 무엇이며 입사 후 10년 동안의 회사...</td>\n    </tr>\n    <tr>\n      <th>4</th>\n      <td>5</td>\n      <td>지원동기 및 포부기업 솔루션 종결자 후지제록스에서 꿈을 펼치다!후지제록스는 많은 ...</td>\n    </tr>\n    <tr>\n      <th>...</th>\n      <td>...</td>\n      <td>...</td>\n    </tr>\n    <tr>\n      <th>1265</th>\n      <td>1266</td>\n      <td>지원동기 및 포부수동적이고 기계적인 태도로 주어진 기본 업무만 처리하는 사람은 능...</td>\n    </tr>\n    <tr>\n      <th>1266</th>\n      <td>1267</td>\n      <td>녹십자 입사지원동기에 대해 말씀해 주세요.우리 사회가 고령화 사회로 진입하게 되면...</td>\n    </tr>\n    <tr>\n      <th>1267</th>\n      <td>1268</td>\n      <td>지원동기귀사의 사회공헌활동에는 역동성이 있습니다. 단순한 기업의 책무로서 사회공헌...</td>\n    </tr>\n    <tr>\n      <th>1268</th>\n      <td>1269</td>\n      <td>지원동기현대의 중심에서 꿈을 품다매출 대비 영업이익률이 OO %이상인 기업 글로벌...</td>\n    </tr>\n    <tr>\n      <th>1269</th>\n      <td>1270</td>\n      <td>남양유업에 지원한 동기와 본인의 어떠한 점이 우리회사의 인재상에 적합하다고 생각하...</td>\n    </tr>\n  </tbody>\n</table>\n<p>1270 rows × 2 columns</p>\n</div>"
     },
     "metadata": {},
     "execution_count": 82
    }
   ],
   "source": [
    "data"
   ]
  },
  {
   "cell_type": "code",
   "execution_count": 26,
   "metadata": {},
   "outputs": [],
   "source": [
    "# ☆'글자수' 와 '접기' 사이에 있는 모든 것을 삭제☆"
   ]
  },
  {
   "cell_type": "code",
   "execution_count": 121,
   "metadata": {},
   "outputs": [
    {
     "output_type": "execute_result",
     "data": {
      "text/plain": "['글자수 412자      1036Byte작성 포인트위 문항은 지원 회사와 직무에 대한 지원동기와 함께 관심의 시작을 알아보고 이를 위해 어떤 노력을 기울였는지 알아보기 위한 문항입니다.첨삭 결과지원동기에 대해 작성하셨습니다. 높은 성장 가능성이 있는 아이에스동서에 대한 사업 현황에 관한 내용은 좋지만 이와 함께 나 자신에 대한 소개를 꼭 추가하셔야 합니다. 총무 업무를 지원하게 된 계기와 지원자만의 강점을 더욱 부각하시기 바랍니다.접기']"
     },
     "metadata": {},
     "execution_count": 121
    }
   ],
   "source": [
    "re.findall(\"글자수+.+접기$\", data['content'][50])\n",
    "#가-힣ㄱ-ㅎa-zA-Z0-9"
   ]
  },
  {
   "cell_type": "code",
   "execution_count": 122,
   "metadata": {},
   "outputs": [],
   "source": [
    "for i in range(0, len(data['content'])):\n",
    "    data['content'][i] = re.sub(\"글자수+.+접기$\", '',data['content'][i])"
   ]
  },
  {
   "cell_type": "code",
   "execution_count": 128,
   "metadata": {},
   "outputs": [
    {
     "output_type": "execute_result",
     "data": {
      "text/plain": "' 우리 회사와 해당직무에 지원한 동기에 대하여 서술하세요.높은 성장 가능성이 있는 회사에서 역량을 발휘하겠습니다제가 아이에스동서에 지원하는 이유는 건축업계에서 높은 성장 가능성 때문입니다. 소액으로 투자하면서 건축주를 눈여겨보았는데 건축 사업뿐 아니라 건축 기자재 요업산업 등 건축에 필요한 제품들을 수직계열화 시켜 분기마다 매출액과 영업이익률이 상승하는 아이에스동서의 진정한 성장을 알게 되었습니다. 이런 아이에스동서에서 저의 강점인 적극성과 꼼꼼함 그리고 전공과 연관된 경리 경험을 활용해 총무팀의 일원이 되고 싶습니다.특히 수직계열화 사업을 진행하는 기업의 경우 사업부별로 원활한 커뮤니케이션 끝에 공기에 맞출 수 있는 제품이 만들어져야 한다고 생각합니다. 총무팀 일원으로 적극성을 살려 현장 공장과 업무를 서로 협조하며 아이에스동서의 성장에 기여하는 지원자가 되겠습니다.'"
     },
     "metadata": {},
     "execution_count": 128
    }
   ],
   "source": [
    "data['content'][50]"
   ]
  },
  {
   "cell_type": "code",
   "execution_count": 127,
   "metadata": {},
   "outputs": [],
   "source": [
    "data.to_csv('CVdata_r3.csv', index= False, encoding=\"UTF-8-sig\")"
   ]
  },
  {
   "cell_type": "code",
   "execution_count": 245,
   "metadata": {},
   "outputs": [],
   "source": [
    "data= pd.read_csv('CVdata_r3.csv')"
   ]
  },
  {
   "cell_type": "code",
   "execution_count": 302,
   "metadata": {},
   "outputs": [],
   "source": [
    "for i in range(0, len(data['content'])):\n",
    "    data['content'][i] = re.sub(\".+입사동기 및 포부\", '',data['content'][i],count=1)"
   ]
  },
  {
   "cell_type": "code",
   "execution_count": null,
   "metadata": {},
   "outputs": [],
   "source": [
    "#문항부분에 해당하는것중 지원동기만 우선 삭제해봄\n",
    "# 및 포부\n",
    "# 및 입사후 포부 , 입사 후 포부, 입사포부,지원동기 및 입사 후 목표,지원동기 및 입사후 포부,지원동기 입사 후 포부 지원동기 및 입사포부 입사동기 및 포부\n",
    "# .+해주십시오, 바랍니다\n",
    "# .+ 주십시오, 기술하세요, 주세요. 기술하시오. 기술해주세요. 서술하시오.무엇입니까? 자유롭게 기술하시오\n",
    "#기술해 주십시오.\n",
    "# .+\\) , ?"
   ]
  },
  {
   "cell_type": "code",
   "execution_count": 305,
   "metadata": {},
   "outputs": [],
   "source": [
    "data.to_csv('CVdata_r4.csv', index= False, encoding=\"UTF-8-sig\")"
   ]
  },
  {
   "cell_type": "markdown",
   "metadata": {},
   "source": [
    "<h2> 2차 정제"
   ]
  },
  {
   "cell_type": "code",
   "execution_count": 1,
   "metadata": {},
   "outputs": [],
   "source": [
    "data= pd.read_csv('CVdata_r4.csv')"
   ]
  },
  {
   "cell_type": "code",
   "execution_count": 24,
   "metadata": {},
   "outputs": [],
   "source": [
    "for i in range(0, len(data['content'])):\n",
    "    data['content'][i].strip()"
   ]
  },
  {
   "cell_type": "code",
   "execution_count": 125,
   "metadata": {},
   "outputs": [],
   "source": [
    "for i in range(0, len(data['content'])):\n",
    "    data['content'][i] = re.sub(\".+말씀해주세요\", '',data['content'][i],count=1)"
   ]
  },
  {
   "cell_type": "code",
   "execution_count": null,
   "metadata": {},
   "outputs": [],
   "source": [
    "\"\"\"\n",
    "서술해 주시기 바랍니다. 지원동기 및 준비사항 지원 동기 및 포부 서술하십시오.기술해주세요.서술하시오. 기술하시오.\n",
    "소개해 주세요. 지원동기 및 입사 후 포부 기술하시오. 무엇인가요? 기술하십시오. 작성하시오. 기술해주십시오. 궁금합니다.\n",
    "서술해 주세요. 주시기 바랍니다. 말씀해주십시오. 설명해주십시오 작성해 주십시오.서술하여 주십시오.\n",
    "작성해주세요. 기술 하세요. 말씀해 주십시오. 기술해 보세요.\n",
    "기술하여 주십시오.\n",
    " 주십시오. 말씀해 주세요.\n",
    " 이내)\n",
    " 후 장래포부\n",
    "\"\"\""
   ]
  },
  {
   "cell_type": "code",
   "execution_count": 126,
   "metadata": {},
   "outputs": [],
   "source": [
    "# data['content'].head(200)"
   ]
  },
  {
   "cell_type": "code",
   "execution_count": 127,
   "metadata": {},
   "outputs": [],
   "source": [
    "data.to_csv('CVdata_r5.csv', index= False, encoding=\"UTF-8-sig\")"
   ]
  },
  {
   "cell_type": "markdown",
   "metadata": {},
   "source": [
    "<h2> 3차 정제"
   ]
  },
  {
   "cell_type": "code",
   "execution_count": 128,
   "metadata": {},
   "outputs": [],
   "source": [
    "data= pd.read_csv('CVdata_r4.csv')"
   ]
  },
  {
   "cell_type": "code",
   "execution_count": null,
   "metadata": {},
   "outputs": [],
   "source": [
    "\"\"\"\n",
    " 바랍니다.) 지원 동기 및 입사후 포부   지원 동기 및 입사 후 포부 구체적으로 기술)\n",
    " 및 입사후 포부 기술하세요.  및 기여방안 및 학창 시절    및 입사 후 계획\n",
    " 및 입사후 계획  입사 후 포부 기술하시오. 기술하십시오.  주십시오.\n",
    " 설명해 주십시오. 이내) 바랍니다.\n",
    " 입사지원 동기    입사후포부\n",
    " 학교생활)   서술하시오.\n",
    " 성장과정   기술해주세요.\n",
    " 기술 하세요.  작성해주세요."
   ]
  },
  {
   "cell_type": "code",
   "execution_count": 130,
   "metadata": {},
   "outputs": [],
   "source": [
    "for i in range(0, len(data['content'])):\n",
    "    data['content'][i].strip()"
   ]
  },
  {
   "cell_type": "code",
   "execution_count": 219,
   "metadata": {},
   "outputs": [],
   "source": [
    "for i in range(0, len(data['content'])):\n",
    "    data['content'][i] = re.sub(\".+작성해주세요\\.\", '',data['content'][i],count=1)"
   ]
  },
  {
   "cell_type": "code",
   "execution_count": 213,
   "metadata": {},
   "outputs": [
    {
     "output_type": "execute_result",
     "data": {
      "text/plain": "'호기심과 꼼꼼함을 통해 친환경 1등 기업으로제가 삼표그룹을 알게 된 것은 여름방학 때 농촌봉사활동을 갔을 때였습니다. 당시 삼표그룹에서 사회공헌활동으로 지역 사회에 장학금과 필요 물자를 제공하는 것을 보게 되었고 농촌 봉사활동 이후에도 삼표그룹의 연탄 나눔 봉사 등 사회공헌활동을 눈여겨보았습니다. 그 결과 친환경을 비전으로 삼는 삼표그룹에서 입사해 사회 전체적으로 시너지를 극대화할 수 있도록 일조하고 싶다는 생각을 하게 되었습니다.경영개선부문에 적합한 이유로 저의 호기심과 꼼꼼함을 들 수 있습니다. 꼼꼼함을 통해 경영학과 대표를 맡으면서 한 번도 결산에서 오류를 내거나 돈을 허투루 사용하지 않고 모든 사용 내역을 공개했고 매월 경영 학우들을 초청해 학우들이 관심 있어 하는 분야 문제라고 생각하는 분야에 관해 이야기를 들으며 학내 장학제도 시설 대여제도 등 제도를 개선해나갔습니다. 이를 바탕으로 삼표그룹에 일조하는 신입사원이 되겠습니다.'"
     },
     "metadata": {},
     "execution_count": 213
    }
   ],
   "source": [
    "data['content'][91]"
   ]
  },
  {
   "cell_type": "code",
   "execution_count": 220,
   "metadata": {},
   "outputs": [],
   "source": [
    "data.to_csv('CVdata_r6.csv', index= False, encoding=\"UTF-8-sig\")"
   ]
  },
  {
   "cell_type": "markdown",
   "metadata": {},
   "source": [
    "<h2> 마지막 정제..."
   ]
  },
  {
   "cell_type": "code",
   "execution_count": 225,
   "metadata": {},
   "outputs": [],
   "source": [
    "data= pd.read_csv('CVdata_r6.csv')"
   ]
  },
  {
   "cell_type": "code",
   "execution_count": 229,
   "metadata": {},
   "outputs": [],
   "source": [
    "for i in range(0, len(data['content'])):\n",
    "    data['content'][i] = re.sub(\".+작성해 주세요\\.\",'', str(data['content'][i]),count=1)"
   ]
  },
  {
   "cell_type": "code",
   "execution_count": 230,
   "metadata": {},
   "outputs": [
    {
     "output_type": "execute_result",
     "data": {
      "text/plain": "'좋은 것을 나눠먹고 싶기에 지원했습니다.어려서부터 시골에서 자라 제철음식의 중요성을 몸소 느끼곤 했습니다. 각 시기마다 사람들에게 필요한 영양소를 제공하며 그 시기만 맛볼 수 있는 별미가 되는 음식들을 먹고 즐기며 혼자먹기엔 너무 아깝다는 말을 하곤 했습니다. 그 말을 들을 때마다 어머니는 ‘이게 어차피 제철이라 가격도 싸서 다들 먹으니 걱정말고 너나 맛나게 먹어라’라고 하시며 웃으셨습니다.CJ프레시웨이의 음식들은 주로 대량공급으로 이뤄집니다. 식품공급업체로는 국내 최대업체이며 앞으로 한식의 세계화와 식자재유통시장 확대로 폭발적인 성장이 기대되는 기업이라고 생각합니다. CJ프레시웨이의 시장이 커지는 것은 MD의 선택으로 인한 음식공급이 더욱 거대해지는 것을 뜻한다고 생각합니다. 그것이 더 저를 자극했습니다. 맛있고 저렴한 제철음식을 사람들과 나누며 그 계절의 맛을 함께 즐기고 싶습니다.이런 일을 수행하기 위해 저는 각 철의 음식들이 언제 나오고 어떻게 먹는 것이 좋은지를 익혀왔습니다. 그리고 이에 대한 출하시기를 익혀 언제 어떤 음식을 공급하는 것이 좋은지 알게 됐습니다. 또한 홀로 식객여행을 떠나며 각 지역에서만 나오는 음식들을 직접 맛보고 공부했습니다. 이런 여행으로 제가 알게 된 가장 맛있는 음식은 ‘피데기’입니다. 반건조오징어라고도 불리는 피데기는 오징어를 덜 말린 형태에서 판매되는 오징어입니다. 일반적인 건오징어가 굉장히 질겨 싫어하는 사람들이 있다는 데 반해 피데기는 쫄깃하고 부드러운 식감을 가지고 있어 더 많은 인기를 끌 수 있을 것이라고 생각합니다.그리고 만일 CJ프레시웨이의 MD가 되는 기회가 있다면 저는 일을 익힌 뒤에 바로 외국어를 공부하고자 합니다. 그리고 아직 정립되지 않은 많은 한식의 외국명과 그에 대한 적합한 설명을 CJ프레시웨이를 위해 만들고 싶습니다. 그리하여 한식의 세계화를 이루는 CJ프레시웨이의 목표에 한 축을 담당하고 싶은 욕심이 있습니다.'"
     },
     "metadata": {},
     "execution_count": 230
    }
   ],
   "source": [
    "data['content'][698]"
   ]
  },
  {
   "cell_type": "markdown",
   "metadata": {},
   "source": [
    "진짜 마지막. .을 제외한 특수문자 제거"
   ]
  },
  {
   "cell_type": "code",
   "execution_count": 2,
   "metadata": {},
   "outputs": [],
   "source": [
    "data= pd.read_csv('CVdata_r6.csv')"
   ]
  },
  {
   "cell_type": "code",
   "execution_count": 17,
   "metadata": {},
   "outputs": [],
   "source": [
    "for i in range(0, len(data['content'])):\n",
    "    data['content'][i] = re.sub('\\>','',  str(data['content'][i]))"
   ]
  },
  {
   "cell_type": "code",
   "execution_count": 18,
   "metadata": {},
   "outputs": [
    {
     "output_type": "execute_result",
     "data": {
      "text/plain": "0       봉사활동을 참여하게 된 후로부터 저는 저의 도움으로 다른 사람들이 행복해지는 모습을...\n1       노력파 현재진행형 인재저는 컴퓨터 전기전자과를 전공하여 전기 전자와 관련된 여러 과...\n2       설계의 꿈을 갖고 기초공사를 마치다제가 설계 직무에 적합한 이유로 3가지가 있습니다...\n3       감동을 주는 엔지니어응용공학설계 프로젝트에서 차량 프로젝트로 설계와 구조해석을 하면...\n4       기업 솔루션 종결자 후지제록스에서 꿈을 펼치다!후지제록스는 많은 기업이 직면해 있는...\n                              ...                        \n1265    수동적이고 기계적인 태도로 주어진 기본 업무만 처리하는 사람은 능동적으로 업무를 완...\n1266    우리 사회가 고령화 사회로 진입하게 되면서 사람들은 단순히 오래 사는 것보다는 건강...\n1267    귀사의 사회공헌활동에는 역동성이 있습니다. 단순한 기업의 책무로서 사회공헌에 임하는...\n1268    는 첫째 전공 과정을 수료함으로써 생산에 있어 발생하는 대부분의 문제에 대해 효율적...\n1269    제품 홍보가 곧 기업 홍보다제품 홍보가 곧 기업 홍보라는 회사의 모토처럼 학창시절부...\nName: content, Length: 1270, dtype: object"
     },
     "metadata": {},
     "execution_count": 18
    }
   ],
   "source": [
    "data['content']\n"
   ]
  },
  {
   "cell_type": "code",
   "execution_count": 19,
   "metadata": {},
   "outputs": [],
   "source": [
    "data.to_csv('CVdata_r7.csv', index= False, encoding=\"UTF-8-sig\")"
   ]
  }
 ]
}